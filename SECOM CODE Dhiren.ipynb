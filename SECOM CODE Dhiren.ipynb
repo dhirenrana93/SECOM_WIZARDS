{
  "cells": [
    {
      "cell_type": "markdown",
      "id": "38a465d1",
      "metadata": {
        "id": "38a465d1"
      },
      "source": [
        "# Import OS library"
      ]
    },
    {
      "cell_type": "code",
      "execution_count": null,
      "id": "60a509ea",
      "metadata": {
        "id": "60a509ea"
      },
      "outputs": [],
      "source": [
        "import os"
      ]
    },
    {
      "cell_type": "markdown",
      "id": "9220786e",
      "metadata": {
        "id": "9220786e"
      },
      "source": [
        "# Set working directory\n",
        "\n",
        "Update the below path within the single quotes as per your system setup."
      ]
    },
    {
      "cell_type": "code",
      "execution_count": null,
      "id": "56c19309",
      "metadata": {
        "id": "56c19309"
      },
      "outputs": [],
      "source": [
        "os.chdir('C:/Users/DhirenBharatRana/Documents/MPMD/Semester 2/DS/SECOM/Data Set')"
      ]
    },
    {
      "cell_type": "markdown",
      "id": "78a5252c",
      "metadata": {
        "id": "78a5252c"
      },
      "source": [
        "# Validate working directory\n"
      ]
    },
    {
      "cell_type": "code",
      "execution_count": null,
      "id": "30d1e668",
      "metadata": {
        "id": "30d1e668",
        "outputId": "aa2442ae-4fc7-4b0c-cc44-b9019f6834dc"
      },
      "outputs": [
        {
          "name": "stdout",
          "output_type": "stream",
          "text": [
            "C:\\Users\\DhirenBharatRana\\Documents\\MPMD\\Semester 2\\DS\\SECOM\\Data Set\n"
          ]
        }
      ],
      "source": [
        "print(os.getcwd())"
      ]
    },
    {
      "cell_type": "markdown",
      "id": "71149251",
      "metadata": {
        "id": "71149251"
      },
      "source": [
        "# Import pandas library"
      ]
    },
    {
      "cell_type": "code",
      "execution_count": null,
      "id": "8a99120c",
      "metadata": {
        "id": "8a99120c"
      },
      "outputs": [],
      "source": [
        "import pandas as pd"
      ]
    },
    {
      "cell_type": "markdown",
      "id": "f4501f69",
      "metadata": {
        "id": "f4501f69"
      },
      "source": [
        "# Import SECOM data and SECOM labels data\n",
        "\n",
        "1. The data is being imported into a dataframe.\n",
        "2. The separator here is space between two values.\n",
        "3. There are no headers in the data file which is provided."
      ]
    },
    {
      "cell_type": "code",
      "execution_count": null,
      "id": "8c3b1ec8",
      "metadata": {
        "id": "8c3b1ec8"
      },
      "outputs": [],
      "source": [
        "secom_data = pd.read_csv('secom.data', sep=' ', header=None)\n",
        "secom_labels_data = pd.read_csv('secom_labels.data', sep=' ', header=None)\n"
      ]
    },
    {
      "cell_type": "markdown",
      "id": "3b9a4be8",
      "metadata": {
        "id": "3b9a4be8"
      },
      "source": [
        "# Check shape and type of the data"
      ]
    },
    {
      "cell_type": "code",
      "execution_count": null,
      "id": "719ecb9b",
      "metadata": {
        "id": "719ecb9b",
        "outputId": "ebe4ae0a-360c-444b-86fd-a96a40aabef2"
      },
      "outputs": [
        {
          "name": "stdout",
          "output_type": "stream",
          "text": [
            "(1567, 590)\n",
            "(1567, 2)\n"
          ]
        },
        {
          "data": {
            "text/plain": [
              "pandas.core.frame.DataFrame"
            ]
          },
          "execution_count": 29,
          "metadata": {},
          "output_type": "execute_result"
        }
      ],
      "source": [
        "print(secom_data.shape)\n",
        "type(secom_data)\n"
      ]
    },
    {
      "cell_type": "code",
      "execution_count": null,
      "id": "1b205367",
      "metadata": {
        "id": "1b205367",
        "outputId": "4bdfea35-703d-4838-ca90-30aa281286f6"
      },
      "outputs": [
        {
          "name": "stdout",
          "output_type": "stream",
          "text": [
            "(1567, 2)\n"
          ]
        },
        {
          "data": {
            "text/plain": [
              "pandas.core.frame.DataFrame"
            ]
          },
          "execution_count": 34,
          "metadata": {},
          "output_type": "execute_result"
        }
      ],
      "source": [
        "print(secom_labels_data.shape)\n",
        "type(secom_labels_data)"
      ]
    },
    {
      "cell_type": "markdown",
      "id": "6637c520",
      "metadata": {
        "id": "6637c520"
      },
      "source": [
        "# Check sample data which is loaded"
      ]
    },
    {
      "cell_type": "code",
      "execution_count": null,
      "id": "55402301",
      "metadata": {
        "collapsed": true,
        "id": "55402301",
        "outputId": "40a5c0ca-777c-494b-85d4-7073eedf3c07"
      },
      "outputs": [
        {
          "data": {
            "text/html": [
              "<div>\n",
              "<style scoped>\n",
              "    .dataframe tbody tr th:only-of-type {\n",
              "        vertical-align: middle;\n",
              "    }\n",
              "\n",
              "    .dataframe tbody tr th {\n",
              "        vertical-align: top;\n",
              "    }\n",
              "\n",
              "    .dataframe thead th {\n",
              "        text-align: right;\n",
              "    }\n",
              "</style>\n",
              "<table border=\"1\" class=\"dataframe\">\n",
              "  <thead>\n",
              "    <tr style=\"text-align: right;\">\n",
              "      <th></th>\n",
              "      <th>0</th>\n",
              "      <th>1</th>\n",
              "      <th>2</th>\n",
              "      <th>3</th>\n",
              "      <th>4</th>\n",
              "      <th>5</th>\n",
              "      <th>6</th>\n",
              "      <th>7</th>\n",
              "      <th>8</th>\n",
              "      <th>9</th>\n",
              "      <th>...</th>\n",
              "      <th>580</th>\n",
              "      <th>581</th>\n",
              "      <th>582</th>\n",
              "      <th>583</th>\n",
              "      <th>584</th>\n",
              "      <th>585</th>\n",
              "      <th>586</th>\n",
              "      <th>587</th>\n",
              "      <th>588</th>\n",
              "      <th>589</th>\n",
              "    </tr>\n",
              "  </thead>\n",
              "  <tbody>\n",
              "    <tr>\n",
              "      <th>0</th>\n",
              "      <td>3030.93</td>\n",
              "      <td>2564.00</td>\n",
              "      <td>2187.7333</td>\n",
              "      <td>1411.1265</td>\n",
              "      <td>1.3602</td>\n",
              "      <td>100.0</td>\n",
              "      <td>97.6133</td>\n",
              "      <td>0.1242</td>\n",
              "      <td>1.5005</td>\n",
              "      <td>0.0162</td>\n",
              "      <td>...</td>\n",
              "      <td>NaN</td>\n",
              "      <td>NaN</td>\n",
              "      <td>0.5005</td>\n",
              "      <td>0.0118</td>\n",
              "      <td>0.0035</td>\n",
              "      <td>2.3630</td>\n",
              "      <td>NaN</td>\n",
              "      <td>NaN</td>\n",
              "      <td>NaN</td>\n",
              "      <td>NaN</td>\n",
              "    </tr>\n",
              "    <tr>\n",
              "      <th>1</th>\n",
              "      <td>3095.78</td>\n",
              "      <td>2465.14</td>\n",
              "      <td>2230.4222</td>\n",
              "      <td>1463.6606</td>\n",
              "      <td>0.8294</td>\n",
              "      <td>100.0</td>\n",
              "      <td>102.3433</td>\n",
              "      <td>0.1247</td>\n",
              "      <td>1.4966</td>\n",
              "      <td>-0.0005</td>\n",
              "      <td>...</td>\n",
              "      <td>0.006</td>\n",
              "      <td>208.2045</td>\n",
              "      <td>0.5019</td>\n",
              "      <td>0.0223</td>\n",
              "      <td>0.0055</td>\n",
              "      <td>4.4447</td>\n",
              "      <td>0.0096</td>\n",
              "      <td>0.0201</td>\n",
              "      <td>0.006</td>\n",
              "      <td>208.2045</td>\n",
              "    </tr>\n",
              "  </tbody>\n",
              "</table>\n",
              "<p>2 rows × 590 columns</p>\n",
              "</div>"
            ],
            "text/plain": [
              "       0        1          2          3       4      5         6       7    \\\n",
              "0  3030.93  2564.00  2187.7333  1411.1265  1.3602  100.0   97.6133  0.1242   \n",
              "1  3095.78  2465.14  2230.4222  1463.6606  0.8294  100.0  102.3433  0.1247   \n",
              "\n",
              "      8       9    ...    580       581     582     583     584     585  \\\n",
              "0  1.5005  0.0162  ...    NaN       NaN  0.5005  0.0118  0.0035  2.3630   \n",
              "1  1.4966 -0.0005  ...  0.006  208.2045  0.5019  0.0223  0.0055  4.4447   \n",
              "\n",
              "      586     587    588       589  \n",
              "0     NaN     NaN    NaN       NaN  \n",
              "1  0.0096  0.0201  0.006  208.2045  \n",
              "\n",
              "[2 rows x 590 columns]"
            ]
          },
          "execution_count": 33,
          "metadata": {},
          "output_type": "execute_result"
        }
      ],
      "source": [
        "secom_data.head(2)"
      ]
    },
    {
      "cell_type": "code",
      "execution_count": null,
      "id": "ba10368f",
      "metadata": {
        "collapsed": true,
        "id": "ba10368f",
        "outputId": "4dba2c2f-7f78-4f14-b215-371f6f66e909"
      },
      "outputs": [
        {
          "data": {
            "text/html": [
              "<div>\n",
              "<style scoped>\n",
              "    .dataframe tbody tr th:only-of-type {\n",
              "        vertical-align: middle;\n",
              "    }\n",
              "\n",
              "    .dataframe tbody tr th {\n",
              "        vertical-align: top;\n",
              "    }\n",
              "\n",
              "    .dataframe thead th {\n",
              "        text-align: right;\n",
              "    }\n",
              "</style>\n",
              "<table border=\"1\" class=\"dataframe\">\n",
              "  <thead>\n",
              "    <tr style=\"text-align: right;\">\n",
              "      <th></th>\n",
              "      <th>0</th>\n",
              "      <th>1</th>\n",
              "    </tr>\n",
              "  </thead>\n",
              "  <tbody>\n",
              "    <tr>\n",
              "      <th>0</th>\n",
              "      <td>-1</td>\n",
              "      <td>19/07/2008 11:55:00</td>\n",
              "    </tr>\n",
              "    <tr>\n",
              "      <th>1</th>\n",
              "      <td>-1</td>\n",
              "      <td>19/07/2008 12:32:00</td>\n",
              "    </tr>\n",
              "  </tbody>\n",
              "</table>\n",
              "</div>"
            ],
            "text/plain": [
              "   0                    1\n",
              "0 -1  19/07/2008 11:55:00\n",
              "1 -1  19/07/2008 12:32:00"
            ]
          },
          "execution_count": 32,
          "metadata": {},
          "output_type": "execute_result"
        }
      ],
      "source": [
        "secom_labels_data.head(2)"
      ]
    },
    {
      "cell_type": "code",
      "execution_count": null,
      "id": "07ccfc35",
      "metadata": {
        "id": "07ccfc35"
      },
      "outputs": [],
      "source": []
    }
  ],
  "metadata": {
    "kernelspec": {
      "display_name": "Python 3 (ipykernel)",
      "language": "python",
      "name": "python3"
    },
    "language_info": {
      "codemirror_mode": {
        "name": "ipython",
        "version": 3
      },
      "file_extension": ".py",
      "mimetype": "text/x-python",
      "name": "python",
      "nbconvert_exporter": "python",
      "pygments_lexer": "ipython3",
      "version": "3.9.12"
    },
    "colab": {
      "provenance": []
    }
  },
  "nbformat": 4,
  "nbformat_minor": 5
}